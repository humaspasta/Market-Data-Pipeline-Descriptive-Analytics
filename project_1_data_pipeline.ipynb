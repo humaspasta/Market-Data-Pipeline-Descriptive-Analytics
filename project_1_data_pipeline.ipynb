{
 "cells": [
  {
   "cell_type": "code",
   "execution_count": 1,
   "id": "eb4c9074",
   "metadata": {},
   "outputs": [
    {
     "name": "stdout",
     "output_type": "stream",
     "text": [
      "Requirement already satisfied: seaborn in c:\\users\\furyo\\onedrive\\desktop\\documents\\github\\market-data-pipeline-descriptive-analytics\\.venv\\lib\\site-packages (0.13.2)\n",
      "Requirement already satisfied: numpy!=1.24.0,>=1.20 in c:\\users\\furyo\\onedrive\\desktop\\documents\\github\\market-data-pipeline-descriptive-analytics\\.venv\\lib\\site-packages (from seaborn) (2.3.0)\n",
      "Requirement already satisfied: pandas>=1.2 in c:\\users\\furyo\\onedrive\\desktop\\documents\\github\\market-data-pipeline-descriptive-analytics\\.venv\\lib\\site-packages (from seaborn) (2.3.0)\n",
      "Requirement already satisfied: matplotlib!=3.6.1,>=3.4 in c:\\users\\furyo\\onedrive\\desktop\\documents\\github\\market-data-pipeline-descriptive-analytics\\.venv\\lib\\site-packages (from seaborn) (3.10.3)\n",
      "Requirement already satisfied: contourpy>=1.0.1 in c:\\users\\furyo\\onedrive\\desktop\\documents\\github\\market-data-pipeline-descriptive-analytics\\.venv\\lib\\site-packages (from matplotlib!=3.6.1,>=3.4->seaborn) (1.3.2)\n",
      "Requirement already satisfied: cycler>=0.10 in c:\\users\\furyo\\onedrive\\desktop\\documents\\github\\market-data-pipeline-descriptive-analytics\\.venv\\lib\\site-packages (from matplotlib!=3.6.1,>=3.4->seaborn) (0.12.1)\n",
      "Requirement already satisfied: fonttools>=4.22.0 in c:\\users\\furyo\\onedrive\\desktop\\documents\\github\\market-data-pipeline-descriptive-analytics\\.venv\\lib\\site-packages (from matplotlib!=3.6.1,>=3.4->seaborn) (4.58.4)\n",
      "Requirement already satisfied: kiwisolver>=1.3.1 in c:\\users\\furyo\\onedrive\\desktop\\documents\\github\\market-data-pipeline-descriptive-analytics\\.venv\\lib\\site-packages (from matplotlib!=3.6.1,>=3.4->seaborn) (1.4.8)\n",
      "Requirement already satisfied: packaging>=20.0 in c:\\users\\furyo\\onedrive\\desktop\\documents\\github\\market-data-pipeline-descriptive-analytics\\.venv\\lib\\site-packages (from matplotlib!=3.6.1,>=3.4->seaborn) (25.0)\n",
      "Requirement already satisfied: pillow>=8 in c:\\users\\furyo\\onedrive\\desktop\\documents\\github\\market-data-pipeline-descriptive-analytics\\.venv\\lib\\site-packages (from matplotlib!=3.6.1,>=3.4->seaborn) (11.2.1)\n",
      "Requirement already satisfied: pyparsing>=2.3.1 in c:\\users\\furyo\\onedrive\\desktop\\documents\\github\\market-data-pipeline-descriptive-analytics\\.venv\\lib\\site-packages (from matplotlib!=3.6.1,>=3.4->seaborn) (3.2.3)\n",
      "Requirement already satisfied: python-dateutil>=2.7 in c:\\users\\furyo\\onedrive\\desktop\\documents\\github\\market-data-pipeline-descriptive-analytics\\.venv\\lib\\site-packages (from matplotlib!=3.6.1,>=3.4->seaborn) (2.9.0.post0)\n",
      "Requirement already satisfied: pytz>=2020.1 in c:\\users\\furyo\\onedrive\\desktop\\documents\\github\\market-data-pipeline-descriptive-analytics\\.venv\\lib\\site-packages (from pandas>=1.2->seaborn) (2025.2)\n",
      "Requirement already satisfied: tzdata>=2022.7 in c:\\users\\furyo\\onedrive\\desktop\\documents\\github\\market-data-pipeline-descriptive-analytics\\.venv\\lib\\site-packages (from pandas>=1.2->seaborn) (2025.2)\n",
      "Requirement already satisfied: six>=1.5 in c:\\users\\furyo\\onedrive\\desktop\\documents\\github\\market-data-pipeline-descriptive-analytics\\.venv\\lib\\site-packages (from python-dateutil>=2.7->matplotlib!=3.6.1,>=3.4->seaborn) (1.17.0)\n",
      "Note: you may need to restart the kernel to use updated packages.\n"
     ]
    }
   ],
   "source": [
    "\n",
    "%pip install seaborn"
   ]
  },
  {
   "cell_type": "code",
   "execution_count": 2,
   "id": "ffa8dcad",
   "metadata": {},
   "outputs": [],
   "source": [
    "import yfinance as yf\n",
    "import pandas as pd\n",
    "import seaborn as sb\n",
    "from data_utils import Data\n",
    "import os\n",
    "import copy"
   ]
  },
  {
   "cell_type": "code",
   "execution_count": 3,
   "id": "79d50f02",
   "metadata": {},
   "outputs": [],
   "source": [
    "data = Data(os.path.join('Data' , 'symbols.txt') , ('2024-06-19' , '2025-06-20' ), os.path.join('Data' , 'logs.txt'))"
   ]
  },
  {
   "cell_type": "code",
   "execution_count": 4,
   "id": "9e8fe925",
   "metadata": {},
   "outputs": [],
   "source": [
    "data.get_tickers()\n",
    "curr_tickers = copy.copy(data.tickers_list)"
   ]
  },
  {
   "cell_type": "code",
   "execution_count": 5,
   "id": "2ed085b6",
   "metadata": {},
   "outputs": [
    {
     "data": {
      "text/plain": [
       "['AAPL', 'SPY', 'TSLA', 'KO', 'GLD']"
      ]
     },
     "execution_count": 5,
     "metadata": {},
     "output_type": "execute_result"
    }
   ],
   "source": [
    "curr_tickers"
   ]
  },
  {
   "cell_type": "code",
   "execution_count": 6,
   "id": "13ab2526",
   "metadata": {},
   "outputs": [
    {
     "name": "stderr",
     "output_type": "stream",
     "text": [
      "[MemorizedFunc(func=<bound method Data._get_ticker_data of <data_utils.Data object at 0x000001E15567E9C0>>, location=.\\Cache\\joblib)]: Clearing function cache identified by data_utils\\Data\\_get_ticker_data\n",
      "[MemorizedFunc(func=<bound method Data._clean_ticker_data of <data_utils.Data object at 0x000001E15567E9C0>>, location=.\\Cache\\joblib)]: Clearing function cache identified by data_utils\\Data\\_clean_ticker_data\n",
      "[MemorizedFunc(func=<bound method Data._get_ticker_data of <data_utils.Data object at 0x000001E15567E9C0>>, location=.\\Cache\\joblib)]: Clearing function cache identified by data_utils\\Data\\_get_ticker_data\n",
      "[MemorizedFunc(func=<bound method Data._clean_ticker_data of <data_utils.Data object at 0x000001E15567E9C0>>, location=.\\Cache\\joblib)]: Clearing function cache identified by data_utils\\Data\\_clean_ticker_data\n",
      "[MemorizedFunc(func=<bound method Data._get_ticker_data of <data_utils.Data object at 0x000001E15567E9C0>>, location=.\\Cache\\joblib)]: Clearing function cache identified by data_utils\\Data\\_get_ticker_data\n",
      "[MemorizedFunc(func=<bound method Data._clean_ticker_data of <data_utils.Data object at 0x000001E15567E9C0>>, location=.\\Cache\\joblib)]: Clearing function cache identified by data_utils\\Data\\_clean_ticker_data\n",
      "[MemorizedFunc(func=<bound method Data._get_ticker_data of <data_utils.Data object at 0x000001E15567E9C0>>, location=.\\Cache\\joblib)]: Clearing function cache identified by data_utils\\Data\\_get_ticker_data\n",
      "[MemorizedFunc(func=<bound method Data._clean_ticker_data of <data_utils.Data object at 0x000001E15567E9C0>>, location=.\\Cache\\joblib)]: Clearing function cache identified by data_utils\\Data\\_clean_ticker_data\n",
      "[MemorizedFunc(func=<bound method Data._get_ticker_data of <data_utils.Data object at 0x000001E15567E9C0>>, location=.\\Cache\\joblib)]: Clearing function cache identified by data_utils\\Data\\_get_ticker_data\n",
      "[MemorizedFunc(func=<bound method Data._clean_ticker_data of <data_utils.Data object at 0x000001E15567E9C0>>, location=.\\Cache\\joblib)]: Clearing function cache identified by data_utils\\Data\\_clean_ticker_data\n"
     ]
    }
   ],
   "source": [
    "data.clear_cache()\n",
    "   \n"
   ]
  },
  {
   "cell_type": "code",
   "execution_count": 7,
   "id": "5bcc267b",
   "metadata": {},
   "outputs": [
    {
     "name": "stderr",
     "output_type": "stream",
     "text": [
      "c:\\Users\\furyo\\OneDrive\\Desktop\\Documents\\GitHub\\Market-Data-Pipeline-Descriptive-Analytics\\data_utils.py:52: FutureWarning: YF.download() has changed argument auto_adjust default to True\n",
      "  return yf.download(ticker , start=self.date[0] , end=self.date[1])\n"
     ]
    },
    {
     "name": "stdout",
     "output_type": "stream",
     "text": [
      "________________________________________________________________________________\n",
      "[Memory] Calling data_utils.Data._get_ticker_data...\n",
      "_get_ticker_data('SPY')\n"
     ]
    },
    {
     "name": "stderr",
     "output_type": "stream",
     "text": [
      "[*********************100%***********************]  1 of 1 completed"
     ]
    },
    {
     "name": "stdout",
     "output_type": "stream",
     "text": [
      "__________________________________________________get_ticker_data - 0.4s, 0.0min\n"
     ]
    },
    {
     "name": "stderr",
     "output_type": "stream",
     "text": [
      "\n"
     ]
    },
    {
     "data": {
      "text/html": [
       "<div>\n",
       "<style scoped>\n",
       "    .dataframe tbody tr th:only-of-type {\n",
       "        vertical-align: middle;\n",
       "    }\n",
       "\n",
       "    .dataframe tbody tr th {\n",
       "        vertical-align: top;\n",
       "    }\n",
       "\n",
       "    .dataframe thead tr th {\n",
       "        text-align: left;\n",
       "    }\n",
       "\n",
       "    .dataframe thead tr:last-of-type th {\n",
       "        text-align: right;\n",
       "    }\n",
       "</style>\n",
       "<table border=\"1\" class=\"dataframe\">\n",
       "  <thead>\n",
       "    <tr>\n",
       "      <th>Price</th>\n",
       "      <th>Close</th>\n",
       "      <th>High</th>\n",
       "      <th>Low</th>\n",
       "      <th>Open</th>\n",
       "      <th>Volume</th>\n",
       "    </tr>\n",
       "    <tr>\n",
       "      <th>Ticker</th>\n",
       "      <th>SPY</th>\n",
       "      <th>SPY</th>\n",
       "      <th>SPY</th>\n",
       "      <th>SPY</th>\n",
       "      <th>SPY</th>\n",
       "    </tr>\n",
       "    <tr>\n",
       "      <th>Date</th>\n",
       "      <th></th>\n",
       "      <th></th>\n",
       "      <th></th>\n",
       "      <th></th>\n",
       "      <th></th>\n",
       "    </tr>\n",
       "  </thead>\n",
       "  <tbody>\n",
       "    <tr>\n",
       "      <th>2024-06-20</th>\n",
       "      <td>538.533508</td>\n",
       "      <td>541.605212</td>\n",
       "      <td>536.741671</td>\n",
       "      <td>540.935744</td>\n",
       "      <td>70328200</td>\n",
       "    </tr>\n",
       "    <tr>\n",
       "      <th>2024-06-21</th>\n",
       "      <td>537.811523</td>\n",
       "      <td>538.937514</td>\n",
       "      <td>536.339863</td>\n",
       "      <td>537.702891</td>\n",
       "      <td>64513900</td>\n",
       "    </tr>\n",
       "    <tr>\n",
       "      <th>2024-06-24</th>\n",
       "      <td>536.063232</td>\n",
       "      <td>540.221463</td>\n",
       "      <td>535.944713</td>\n",
       "      <td>537.633699</td>\n",
       "      <td>45528700</td>\n",
       "    </tr>\n",
       "    <tr>\n",
       "      <th>2024-06-25</th>\n",
       "      <td>538.127625</td>\n",
       "      <td>538.493068</td>\n",
       "      <td>535.767011</td>\n",
       "      <td>537.297932</td>\n",
       "      <td>38273300</td>\n",
       "    </tr>\n",
       "    <tr>\n",
       "      <th>2024-06-26</th>\n",
       "      <td>538.799194</td>\n",
       "      <td>539.520195</td>\n",
       "      <td>536.349722</td>\n",
       "      <td>537.001577</td>\n",
       "      <td>38550600</td>\n",
       "    </tr>\n",
       "  </tbody>\n",
       "</table>\n",
       "</div>"
      ],
      "text/plain": [
       "Price            Close        High         Low        Open    Volume\n",
       "Ticker             SPY         SPY         SPY         SPY       SPY\n",
       "Date                                                                \n",
       "2024-06-20  538.533508  541.605212  536.741671  540.935744  70328200\n",
       "2024-06-21  537.811523  538.937514  536.339863  537.702891  64513900\n",
       "2024-06-24  536.063232  540.221463  535.944713  537.633699  45528700\n",
       "2024-06-25  538.127625  538.493068  535.767011  537.297932  38273300\n",
       "2024-06-26  538.799194  539.520195  536.349722  537.001577  38550600"
      ]
     },
     "execution_count": 7,
     "metadata": {},
     "output_type": "execute_result"
    }
   ],
   "source": [
    "spy = data.get_ticker_data(curr_tickers[1])\n",
    "spy.head()"
   ]
  },
  {
   "cell_type": "code",
   "execution_count": 8,
   "id": "95fbc6c0",
   "metadata": {},
   "outputs": [
    {
     "name": "stdout",
     "output_type": "stream",
     "text": [
      "________________________________________________________________________________\n",
      "[Memory] Calling data_utils.Data._clean_ticker_data...\n",
      "_clean_ticker_data('SPY')\n"
     ]
    },
    {
     "ename": "KeyError",
     "evalue": "'Date'",
     "output_type": "error",
     "traceback": [
      "\u001b[31m---------------------------------------------------------------------------\u001b[39m",
      "\u001b[31mKeyError\u001b[39m                                  Traceback (most recent call last)",
      "\u001b[36mCell\u001b[39m\u001b[36m \u001b[39m\u001b[32mIn[8]\u001b[39m\u001b[32m, line 1\u001b[39m\n\u001b[32m----> \u001b[39m\u001b[32m1\u001b[39m cleaned_spy = \u001b[43mdata\u001b[49m\u001b[43m.\u001b[49m\u001b[43mclean_ticker_data\u001b[49m\u001b[43m(\u001b[49m\u001b[33;43m'\u001b[39;49m\u001b[33;43mSPY\u001b[39;49m\u001b[33;43m'\u001b[39;49m\u001b[43m)\u001b[49m \u001b[38;5;66;03m# error here\u001b[39;00m\n",
      "\u001b[36mFile \u001b[39m\u001b[32mc:\\Users\\furyo\\OneDrive\\Desktop\\Documents\\GitHub\\Market-Data-Pipeline-Descriptive-Analytics\\data_utils.py:99\u001b[39m, in \u001b[36mData.clean_ticker_data\u001b[39m\u001b[34m(self, ticker)\u001b[39m\n\u001b[32m     95\u001b[39m \u001b[38;5;28;01mdef\u001b[39;00m\u001b[38;5;250m \u001b[39m\u001b[34mclean_ticker_data\u001b[39m(\u001b[38;5;28mself\u001b[39m , ticker):\n\u001b[32m     96\u001b[39m \u001b[38;5;250m    \u001b[39m\u001b[33;03m'''\u001b[39;00m\n\u001b[32m     97\u001b[39m \u001b[33;03m    cleans the data\u001b[39;00m\n\u001b[32m     98\u001b[39m \u001b[33;03m    '''\u001b[39;00m\n\u001b[32m---> \u001b[39m\u001b[32m99\u001b[39m     data = \u001b[38;5;28;43mself\u001b[39;49m\u001b[43m.\u001b[49m\u001b[43mclean\u001b[49m\u001b[43m(\u001b[49m\u001b[43mticker\u001b[49m\u001b[43m)\u001b[49m\n\u001b[32m    101\u001b[39m     \u001b[38;5;28;01mreturn\u001b[39;00m data\n",
      "\u001b[36mFile \u001b[39m\u001b[32mc:\\Users\\furyo\\OneDrive\\Desktop\\Documents\\GitHub\\Market-Data-Pipeline-Descriptive-Analytics\\.venv\\Lib\\site-packages\\joblib\\memory.py:607\u001b[39m, in \u001b[36mMemorizedFunc.__call__\u001b[39m\u001b[34m(self, *args, **kwargs)\u001b[39m\n\u001b[32m    605\u001b[39m \u001b[38;5;28;01mdef\u001b[39;00m\u001b[38;5;250m \u001b[39m\u001b[34m__call__\u001b[39m(\u001b[38;5;28mself\u001b[39m, *args, **kwargs):\n\u001b[32m    606\u001b[39m     \u001b[38;5;66;03m# Return the output, without the metadata\u001b[39;00m\n\u001b[32m--> \u001b[39m\u001b[32m607\u001b[39m     \u001b[38;5;28;01mreturn\u001b[39;00m \u001b[38;5;28;43mself\u001b[39;49m\u001b[43m.\u001b[49m\u001b[43m_cached_call\u001b[49m\u001b[43m(\u001b[49m\u001b[43margs\u001b[49m\u001b[43m,\u001b[49m\u001b[43m \u001b[49m\u001b[43mkwargs\u001b[49m\u001b[43m,\u001b[49m\u001b[43m \u001b[49m\u001b[43mshelving\u001b[49m\u001b[43m=\u001b[49m\u001b[38;5;28;43;01mFalse\u001b[39;49;00m\u001b[43m)\u001b[49m[\u001b[32m0\u001b[39m]\n",
      "\u001b[36mFile \u001b[39m\u001b[32mc:\\Users\\furyo\\OneDrive\\Desktop\\Documents\\GitHub\\Market-Data-Pipeline-Descriptive-Analytics\\.venv\\Lib\\site-packages\\joblib\\memory.py:562\u001b[39m, in \u001b[36mMemorizedFunc._cached_call\u001b[39m\u001b[34m(self, args, kwargs, shelving)\u001b[39m\n\u001b[32m    556\u001b[39m     \u001b[38;5;28mself\u001b[39m.warn(\n\u001b[32m    557\u001b[39m         \u001b[33mf\u001b[39m\u001b[33m\"\u001b[39m\u001b[33mComputing func \u001b[39m\u001b[38;5;132;01m{\u001b[39;00mfunc_name\u001b[38;5;132;01m}\u001b[39;00m\u001b[33m, argument hash \u001b[39m\u001b[38;5;132;01m{\u001b[39;00margs_id\u001b[38;5;132;01m}\u001b[39;00m\u001b[33m \u001b[39m\u001b[33m\"\u001b[39m\n\u001b[32m    558\u001b[39m         \u001b[33mf\u001b[39m\u001b[33m\"\u001b[39m\u001b[33min location \u001b[39m\u001b[38;5;132;01m{\u001b[39;00mlocation\u001b[38;5;132;01m}\u001b[39;00m\u001b[33m\"\u001b[39m\n\u001b[32m    559\u001b[39m     )\n\u001b[32m    561\u001b[39m \u001b[38;5;66;03m# Returns the output but not the metadata\u001b[39;00m\n\u001b[32m--> \u001b[39m\u001b[32m562\u001b[39m \u001b[38;5;28;01mreturn\u001b[39;00m \u001b[38;5;28;43mself\u001b[39;49m\u001b[43m.\u001b[49m\u001b[43m_call\u001b[49m\u001b[43m(\u001b[49m\u001b[43mcall_id\u001b[49m\u001b[43m,\u001b[49m\u001b[43m \u001b[49m\u001b[43margs\u001b[49m\u001b[43m,\u001b[49m\u001b[43m \u001b[49m\u001b[43mkwargs\u001b[49m\u001b[43m,\u001b[49m\u001b[43m \u001b[49m\u001b[43mshelving\u001b[49m\u001b[43m)\u001b[49m\n",
      "\u001b[36mFile \u001b[39m\u001b[32mc:\\Users\\furyo\\OneDrive\\Desktop\\Documents\\GitHub\\Market-Data-Pipeline-Descriptive-Analytics\\.venv\\Lib\\site-packages\\joblib\\memory.py:832\u001b[39m, in \u001b[36mMemorizedFunc._call\u001b[39m\u001b[34m(self, call_id, args, kwargs, shelving)\u001b[39m\n\u001b[32m    830\u001b[39m \u001b[38;5;28mself\u001b[39m._before_call(args, kwargs)\n\u001b[32m    831\u001b[39m start_time = time.time()\n\u001b[32m--> \u001b[39m\u001b[32m832\u001b[39m output = \u001b[38;5;28;43mself\u001b[39;49m\u001b[43m.\u001b[49m\u001b[43mfunc\u001b[49m\u001b[43m(\u001b[49m\u001b[43m*\u001b[49m\u001b[43margs\u001b[49m\u001b[43m,\u001b[49m\u001b[43m \u001b[49m\u001b[43m*\u001b[49m\u001b[43m*\u001b[49m\u001b[43mkwargs\u001b[49m\u001b[43m)\u001b[49m\n\u001b[32m    833\u001b[39m \u001b[38;5;28;01mreturn\u001b[39;00m \u001b[38;5;28mself\u001b[39m._after_call(call_id, args, kwargs, shelving, output, start_time)\n",
      "\u001b[36mFile \u001b[39m\u001b[32mc:\\Users\\furyo\\OneDrive\\Desktop\\Documents\\GitHub\\Market-Data-Pipeline-Descriptive-Analytics\\data_utils.py:117\u001b[39m, in \u001b[36mData._clean_ticker_data\u001b[39m\u001b[34m(self, ticker)\u001b[39m\n\u001b[32m    114\u001b[39m old_dates = \u001b[38;5;28mset\u001b[39m(data.index)\n\u001b[32m    116\u001b[39m date_diff = new_dates - old_dates \u001b[38;5;66;03m#getting dates that are not common between the two\u001b[39;00m\n\u001b[32m--> \u001b[39m\u001b[32m117\u001b[39m \u001b[38;5;28;43mself\u001b[39;49m\u001b[43m.\u001b[49m\u001b[43mlog_data\u001b[49m\u001b[43m(\u001b[49m\u001b[43mticker\u001b[49m\u001b[43m \u001b[49m\u001b[43m,\u001b[49m\u001b[43m \u001b[49m\u001b[43mdate_diff\u001b[49m\u001b[43m)\u001b[49m \u001b[38;5;66;03m# logging the dates that were added\u001b[39;00m\n\u001b[32m    119\u001b[39m new_data.reset_index()\n\u001b[32m    120\u001b[39m \u001b[38;5;28mprint\u001b[39m(new_data.head())\n",
      "\u001b[36mFile \u001b[39m\u001b[32mc:\\Users\\furyo\\OneDrive\\Desktop\\Documents\\GitHub\\Market-Data-Pipeline-Descriptive-Analytics\\data_utils.py:78\u001b[39m, in \u001b[36mData.log_data\u001b[39m\u001b[34m(self, ticker, information)\u001b[39m\n\u001b[32m     76\u001b[39m \u001b[38;5;28;01mfor\u001b[39;00m date \u001b[38;5;129;01min\u001b[39;00m information:\n\u001b[32m     77\u001b[39m     tx.write(\u001b[38;5;28mstr\u001b[39m(date) + \u001b[33m\"\u001b[39m\u001b[38;5;130;01m\\n\u001b[39;00m\u001b[33m\"\u001b[39m)\n\u001b[32m---> \u001b[39m\u001b[32m78\u001b[39m \u001b[38;5;28;01mif\u001b[39;00m \u001b[38;5;28;43mself\u001b[39;49m\u001b[43m.\u001b[49m\u001b[43mcalculate_dividend_error\u001b[49m\u001b[43m(\u001b[49m\u001b[43mticker\u001b[49m\u001b[43m \u001b[49m\u001b[43m,\u001b[49m\u001b[43m \u001b[49m\u001b[38;5;28;43mself\u001b[39;49m\u001b[43m.\u001b[49m\u001b[43mdate\u001b[49m\u001b[43m[\u001b[49m\u001b[32;43m1\u001b[39;49m\u001b[43m]\u001b[49m\u001b[43m)\u001b[49m >= \u001b[32m0.2\u001b[39m:\n\u001b[32m     79\u001b[39m     tx.write(\u001b[33m\"\u001b[39m\u001b[33mSplit dividend anomaly\u001b[39m\u001b[33m\"\u001b[39m)\n\u001b[32m     80\u001b[39m tx.close()\n",
      "\u001b[36mFile \u001b[39m\u001b[32mc:\\Users\\furyo\\OneDrive\\Desktop\\Documents\\GitHub\\Market-Data-Pipeline-Descriptive-Analytics\\data_utils.py:156\u001b[39m, in \u001b[36mData.calculate_dividend_error\u001b[39m\u001b[34m(self, ticker, date)\u001b[39m\n\u001b[32m    153\u001b[39m \u001b[38;5;28;01mif\u001b[39;00m(\u001b[38;5;129;01mnot\u001b[39;00m os.path.exists(os.path.join(\u001b[33m'\u001b[39m\u001b[33mData\u001b[39m\u001b[33m'\u001b[39m , \u001b[33m'\u001b[39m\u001b[33mClean\u001b[39m\u001b[33m'\u001b[39m , \u001b[33mf\u001b[39m\u001b[33m'\u001b[39m\u001b[38;5;132;01m{\u001b[39;00mticker\u001b[38;5;132;01m}\u001b[39;00m\u001b[33m.parq\u001b[39m\u001b[33m'\u001b[39m))):\n\u001b[32m    154\u001b[39m     \u001b[38;5;28;01mraise\u001b[39;00m \u001b[38;5;167;01mFileNotFoundError\u001b[39;00m(\u001b[33m'\u001b[39m\u001b[33mThe parq file does not exist\u001b[39m\u001b[33m'\u001b[39m)\n\u001b[32m--> \u001b[39m\u001b[32m156\u001b[39m data = \u001b[38;5;28;43mself\u001b[39;49m\u001b[43m.\u001b[49m\u001b[43mget_parquet\u001b[49m\u001b[43m(\u001b[49m\u001b[43mticker\u001b[49m\u001b[43m)\u001b[49m\n\u001b[32m    159\u001b[39m close_values = data[(\u001b[33m'\u001b[39m\u001b[33mClose\u001b[39m\u001b[33m'\u001b[39m , ticker)]\n\u001b[32m    160\u001b[39m close_avg = close_values.sum()\n",
      "\u001b[36mFile \u001b[39m\u001b[32mc:\\Users\\furyo\\OneDrive\\Desktop\\Documents\\GitHub\\Market-Data-Pipeline-Descriptive-Analytics\\data_utils.py:142\u001b[39m, in \u001b[36mData.get_parquet\u001b[39m\u001b[34m(self, ticker)\u001b[39m\n\u001b[32m    138\u001b[39m \u001b[38;5;250m\u001b[39m\u001b[33;03m'''\u001b[39;00m\n\u001b[32m    139\u001b[39m \u001b[33;03mRetrieves the data of a given ticker from the respective parque file\u001b[39;00m\n\u001b[32m    140\u001b[39m \u001b[33;03m'''\u001b[39;00m\n\u001b[32m    141\u001b[39m path = os.path.join(\u001b[33m'\u001b[39m\u001b[33mData\u001b[39m\u001b[33m'\u001b[39m , \u001b[33m'\u001b[39m\u001b[33mClean\u001b[39m\u001b[33m'\u001b[39m , \u001b[33mf\u001b[39m\u001b[33m'\u001b[39m\u001b[38;5;132;01m{\u001b[39;00mticker\u001b[38;5;132;01m}\u001b[39;00m\u001b[33m'\u001b[39m + \u001b[33m'\u001b[39m\u001b[33m.parq\u001b[39m\u001b[33m'\u001b[39m )\n\u001b[32m--> \u001b[39m\u001b[32m142\u001b[39m \u001b[38;5;28;01mreturn\u001b[39;00m \u001b[43mpd\u001b[49m\u001b[43m.\u001b[49m\u001b[43mread_parquet\u001b[49m\u001b[43m(\u001b[49m\u001b[43mpath\u001b[49m\u001b[43m \u001b[49m\u001b[43m,\u001b[49m\u001b[43m \u001b[49m\u001b[43mengine\u001b[49m\u001b[43m=\u001b[49m\u001b[33;43m'\u001b[39;49m\u001b[33;43mfastparquet\u001b[39;49m\u001b[33;43m'\u001b[39;49m\u001b[43m)\u001b[49m\n",
      "\u001b[36mFile \u001b[39m\u001b[32mc:\\Users\\furyo\\OneDrive\\Desktop\\Documents\\GitHub\\Market-Data-Pipeline-Descriptive-Analytics\\.venv\\Lib\\site-packages\\pandas\\io\\parquet.py:669\u001b[39m, in \u001b[36mread_parquet\u001b[39m\u001b[34m(path, engine, columns, storage_options, use_nullable_dtypes, dtype_backend, filesystem, filters, **kwargs)\u001b[39m\n\u001b[32m    666\u001b[39m     use_nullable_dtypes = \u001b[38;5;28;01mFalse\u001b[39;00m\n\u001b[32m    667\u001b[39m check_dtype_backend(dtype_backend)\n\u001b[32m--> \u001b[39m\u001b[32m669\u001b[39m \u001b[38;5;28;01mreturn\u001b[39;00m \u001b[43mimpl\u001b[49m\u001b[43m.\u001b[49m\u001b[43mread\u001b[49m\u001b[43m(\u001b[49m\n\u001b[32m    670\u001b[39m \u001b[43m    \u001b[49m\u001b[43mpath\u001b[49m\u001b[43m,\u001b[49m\n\u001b[32m    671\u001b[39m \u001b[43m    \u001b[49m\u001b[43mcolumns\u001b[49m\u001b[43m=\u001b[49m\u001b[43mcolumns\u001b[49m\u001b[43m,\u001b[49m\n\u001b[32m    672\u001b[39m \u001b[43m    \u001b[49m\u001b[43mfilters\u001b[49m\u001b[43m=\u001b[49m\u001b[43mfilters\u001b[49m\u001b[43m,\u001b[49m\n\u001b[32m    673\u001b[39m \u001b[43m    \u001b[49m\u001b[43mstorage_options\u001b[49m\u001b[43m=\u001b[49m\u001b[43mstorage_options\u001b[49m\u001b[43m,\u001b[49m\n\u001b[32m    674\u001b[39m \u001b[43m    \u001b[49m\u001b[43muse_nullable_dtypes\u001b[49m\u001b[43m=\u001b[49m\u001b[43muse_nullable_dtypes\u001b[49m\u001b[43m,\u001b[49m\n\u001b[32m    675\u001b[39m \u001b[43m    \u001b[49m\u001b[43mdtype_backend\u001b[49m\u001b[43m=\u001b[49m\u001b[43mdtype_backend\u001b[49m\u001b[43m,\u001b[49m\n\u001b[32m    676\u001b[39m \u001b[43m    \u001b[49m\u001b[43mfilesystem\u001b[49m\u001b[43m=\u001b[49m\u001b[43mfilesystem\u001b[49m\u001b[43m,\u001b[49m\n\u001b[32m    677\u001b[39m \u001b[43m    \u001b[49m\u001b[43m*\u001b[49m\u001b[43m*\u001b[49m\u001b[43mkwargs\u001b[49m\u001b[43m,\u001b[49m\n\u001b[32m    678\u001b[39m \u001b[43m\u001b[49m\u001b[43m)\u001b[49m\n",
      "\u001b[36mFile \u001b[39m\u001b[32mc:\\Users\\furyo\\OneDrive\\Desktop\\Documents\\GitHub\\Market-Data-Pipeline-Descriptive-Analytics\\.venv\\Lib\\site-packages\\pandas\\io\\parquet.py:404\u001b[39m, in \u001b[36mFastParquetImpl.read\u001b[39m\u001b[34m(self, path, columns, filters, storage_options, filesystem, **kwargs)\u001b[39m\n\u001b[32m    401\u001b[39m     path = handles.handle\n\u001b[32m    403\u001b[39m \u001b[38;5;28;01mtry\u001b[39;00m:\n\u001b[32m--> \u001b[39m\u001b[32m404\u001b[39m     parquet_file = \u001b[38;5;28;43mself\u001b[39;49m\u001b[43m.\u001b[49m\u001b[43mapi\u001b[49m\u001b[43m.\u001b[49m\u001b[43mParquetFile\u001b[49m\u001b[43m(\u001b[49m\u001b[43mpath\u001b[49m\u001b[43m,\u001b[49m\u001b[43m \u001b[49m\u001b[43m*\u001b[49m\u001b[43m*\u001b[49m\u001b[43mparquet_kwargs\u001b[49m\u001b[43m)\u001b[49m\n\u001b[32m    405\u001b[39m     \u001b[38;5;28;01mreturn\u001b[39;00m parquet_file.to_pandas(columns=columns, filters=filters, **kwargs)\n\u001b[32m    406\u001b[39m \u001b[38;5;28;01mfinally\u001b[39;00m:\n",
      "\u001b[36mFile \u001b[39m\u001b[32mc:\\Users\\furyo\\OneDrive\\Desktop\\Documents\\GitHub\\Market-Data-Pipeline-Descriptive-Analytics\\.venv\\Lib\\site-packages\\fastparquet\\api.py:135\u001b[39m, in \u001b[36mParquetFile.__init__\u001b[39m\u001b[34m(self, fn, verify, open_with, root, sep, fs, pandas_nulls, dtypes)\u001b[39m\n\u001b[32m    132\u001b[39m \u001b[38;5;28;01melif\u001b[39;00m \u001b[38;5;28mhasattr\u001b[39m(fn, \u001b[33m'\u001b[39m\u001b[33mread\u001b[39m\u001b[33m'\u001b[39m):\n\u001b[32m    133\u001b[39m     \u001b[38;5;66;03m# file-like\u001b[39;00m\n\u001b[32m    134\u001b[39m     \u001b[38;5;28mself\u001b[39m.fn = \u001b[38;5;28;01mNone\u001b[39;00m\n\u001b[32m--> \u001b[39m\u001b[32m135\u001b[39m     \u001b[38;5;28;43mself\u001b[39;49m\u001b[43m.\u001b[49m\u001b[43m_parse_header\u001b[49m\u001b[43m(\u001b[49m\u001b[43mfn\u001b[49m\u001b[43m,\u001b[49m\u001b[43m \u001b[49m\u001b[43mverify\u001b[49m\u001b[43m)\u001b[49m\n\u001b[32m    136\u001b[39m     \u001b[38;5;28;01mif\u001b[39;00m \u001b[38;5;28mself\u001b[39m.file_scheme \u001b[38;5;129;01mnot\u001b[39;00m \u001b[38;5;129;01min\u001b[39;00m [\u001b[33m'\u001b[39m\u001b[33msimple\u001b[39m\u001b[33m'\u001b[39m, \u001b[33m'\u001b[39m\u001b[33mempty\u001b[39m\u001b[33m'\u001b[39m]:\n\u001b[32m    137\u001b[39m         \u001b[38;5;28;01mraise\u001b[39;00m \u001b[38;5;167;01mValueError\u001b[39;00m(\u001b[33m'\u001b[39m\u001b[33mCannot use file-like input \u001b[39m\u001b[33m'\u001b[39m\n\u001b[32m    138\u001b[39m                          \u001b[33m'\u001b[39m\u001b[33mwith multi-file data\u001b[39m\u001b[33m'\u001b[39m)\n",
      "\u001b[36mFile \u001b[39m\u001b[32mc:\\Users\\furyo\\OneDrive\\Desktop\\Documents\\GitHub\\Market-Data-Pipeline-Descriptive-Analytics\\.venv\\Lib\\site-packages\\fastparquet\\api.py:236\u001b[39m, in \u001b[36mParquetFile._parse_header\u001b[39m\u001b[34m(self, f, verify)\u001b[39m\n\u001b[32m    234\u001b[39m             chunk[\u001b[32m1\u001b[39m] = s.decode()\n\u001b[32m    235\u001b[39m \u001b[38;5;28mself\u001b[39m.fmd = fmd\n\u001b[32m--> \u001b[39m\u001b[32m236\u001b[39m \u001b[38;5;28;43mself\u001b[39;49m\u001b[43m.\u001b[49m\u001b[43m_set_attrs\u001b[49m\u001b[43m(\u001b[49m\u001b[43m)\u001b[49m\n",
      "\u001b[36mFile \u001b[39m\u001b[32mc:\\Users\\furyo\\OneDrive\\Desktop\\Documents\\GitHub\\Market-Data-Pipeline-Descriptive-Analytics\\.venv\\Lib\\site-packages\\fastparquet\\api.py:250\u001b[39m, in \u001b[36mParquetFile._set_attrs\u001b[39m\u001b[34m(self)\u001b[39m\n\u001b[32m    245\u001b[39m \u001b[38;5;28mself\u001b[39m.selfmade = (\n\u001b[32m    246\u001b[39m     \u001b[33mb\u001b[39m\u001b[33m\"\u001b[39m\u001b[33mfastparquet\u001b[39m\u001b[33m\"\u001b[39m \u001b[38;5;129;01min\u001b[39;00m \u001b[38;5;28mself\u001b[39m.created_by \u001b[38;5;28;01mif\u001b[39;00m \u001b[38;5;28mself\u001b[39m.created_by \u001b[38;5;129;01mis\u001b[39;00m \u001b[38;5;129;01mnot\u001b[39;00m \u001b[38;5;28;01mNone\u001b[39;00m\n\u001b[32m    247\u001b[39m     \u001b[38;5;28;01melse\u001b[39;00m \u001b[38;5;28;01mFalse\u001b[39;00m\n\u001b[32m    248\u001b[39m )\n\u001b[32m    249\u001b[39m \u001b[38;5;28mself\u001b[39m._read_partitions()\n\u001b[32m--> \u001b[39m\u001b[32m250\u001b[39m \u001b[38;5;28;43mself\u001b[39;49m\u001b[43m.\u001b[49m\u001b[43m_dtypes\u001b[49m\u001b[43m(\u001b[49m\u001b[43m)\u001b[49m\n",
      "\u001b[36mFile \u001b[39m\u001b[32mc:\\Users\\furyo\\OneDrive\\Desktop\\Documents\\GitHub\\Market-Data-Pipeline-Descriptive-Analytics\\.venv\\Lib\\site-packages\\fastparquet\\api.py:965\u001b[39m, in \u001b[36mParquetFile._dtypes\u001b[39m\u001b[34m(self, categories)\u001b[39m\n\u001b[32m    962\u001b[39m \u001b[38;5;28;01mif\u001b[39;00m dt.kind == \u001b[33m\"\u001b[39m\u001b[33mM\u001b[39m\u001b[33m\"\u001b[39m:\n\u001b[32m    963\u001b[39m     \u001b[38;5;28;01mif\u001b[39;00m \u001b[38;5;28mself\u001b[39m.pandas_metadata \u001b[38;5;129;01mand\u001b[39;00m PANDAS_VERSION.major >= \u001b[32m2\u001b[39m:\n\u001b[32m    964\u001b[39m         \u001b[38;5;66;03m# get original resolution when pandas supports non-ns\u001b[39;00m\n\u001b[32m--> \u001b[39m\u001b[32m965\u001b[39m         dt = \u001b[43mmd\u001b[49m\u001b[43m[\u001b[49m\u001b[43mcol\u001b[49m\u001b[43m]\u001b[49m[\u001b[33m\"\u001b[39m\u001b[33mnumpy_type\u001b[39m\u001b[33m\"\u001b[39m]\n\u001b[32m    966\u001b[39m     \u001b[38;5;28;01mif\u001b[39;00m tz \u001b[38;5;129;01mis\u001b[39;00m \u001b[38;5;129;01mnot\u001b[39;00m \u001b[38;5;28;01mNone\u001b[39;00m \u001b[38;5;129;01mand\u001b[39;00m tz.get(col, \u001b[38;5;28;01mFalse\u001b[39;00m):\n\u001b[32m    967\u001b[39m         z = dataframe.tz_to_dt_tz(tz[col])\n",
      "\u001b[31mKeyError\u001b[39m: 'Date'"
     ]
    }
   ],
   "source": [
    "cleaned_spy = data.clean_ticker_data('SPY') # error here"
   ]
  },
  {
   "cell_type": "code",
   "execution_count": null,
   "id": "a01628dc",
   "metadata": {},
   "outputs": [],
   "source": []
  },
  {
   "cell_type": "code",
   "execution_count": null,
   "id": "a8e52450",
   "metadata": {},
   "outputs": [],
   "source": [
    "data.index"
   ]
  },
  {
   "cell_type": "code",
   "execution_count": null,
   "id": "65ffa867",
   "metadata": {},
   "outputs": [],
   "source": []
  },
  {
   "cell_type": "code",
   "execution_count": null,
   "id": "6ebd7aae",
   "metadata": {},
   "outputs": [],
   "source": []
  },
  {
   "cell_type": "code",
   "execution_count": null,
   "id": "af06f188",
   "metadata": {},
   "outputs": [],
   "source": [
    "data.loc['Name']"
   ]
  }
 ],
 "metadata": {
  "kernelspec": {
   "display_name": ".venv",
   "language": "python",
   "name": "python3"
  },
  "language_info": {
   "codemirror_mode": {
    "name": "ipython",
    "version": 3
   },
   "file_extension": ".py",
   "mimetype": "text/x-python",
   "name": "python",
   "nbconvert_exporter": "python",
   "pygments_lexer": "ipython3",
   "version": "3.12.4"
  }
 },
 "nbformat": 4,
 "nbformat_minor": 5
}
